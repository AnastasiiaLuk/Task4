{
 "cells": [
  {
   "cell_type": "markdown",
   "id": "482b9276",
   "metadata": {},
   "source": [
    "__<h2><center>Task 4</center></h2>__"
   ]
  },
  {
   "cell_type": "code",
   "execution_count": 3,
   "id": "c61d3dfc",
   "metadata": {},
   "outputs": [
    {
     "name": "stdout",
     "output_type": "stream",
     "text": [
      "CR% - Контрольна група: 29.252091486840687 %, Тестова група: 28.009149994553574 %\n",
      "ARPPU - Контрольна група: 294.37 $, Тестова група: 324.44 $\n",
      "Статистична значимість CR% (p-value): 0.00018142435175247723\n",
      "Статистична значимість ARPPU (p-value): 1.0\n"
     ]
    }
   ],
   "source": [
    "from scipy import stats\n",
    "\n",
    "#Контрольна група\n",
    "orders_control = 27851\n",
    "orders_with_payment_control = 8147\n",
    "\n",
    "# Тестова група\n",
    "orders_test = 27541\n",
    "orders_with_payment_test = 7714\n",
    "\n",
    "# ARPPU\n",
    "ARPPU_control = 294.37\n",
    "ARPPU_test = 324.44\n",
    "\n",
    "# CR%\n",
    "CR_control = (orders_with_payment_control / orders_control) * 100\n",
    "CR_test = (orders_with_payment_test / orders_test) * 100\n",
    "\n",
    "# Проведення t-тесту для CR%\n",
    "t_stat_CR, p_value_CR = stats.ttest_ind([orders_with_payment_control, orders_with_payment_test], [orders_control, orders_test])\n",
    "\n",
    "# Проведення t-тесту для ARPPU\n",
    "t_stat_ARPPU, p_value_ARPPU = stats.ttest_ind([ARPPU_control, ARPPU_test], [ARPPU_control, ARPPU_test])\n",
    "\n",
    "# Вивід результатів\n",
    "print(\"CR% - Контрольна група:\", CR_control, \"%, Тестова група:\", CR_test, \"%\")\n",
    "print(\"ARPPU - Контрольна група:\", ARPPU_control, \"$, Тестова група:\", ARPPU_test, \"$\")\n",
    "print(\"Статистична значимість CR% (p-value):\", p_value_CR)\n",
    "print(\"Статистична значимість ARPPU (p-value):\", p_value_ARPPU)\n"
   ]
  },
  {
   "cell_type": "markdown",
   "id": "83dbb3cc",
   "metadata": {},
   "source": [
    "<center><h3>Висновок</h3></center>\n",
    "\n",
    "__Конверсія в оплату (CR%):__\n",
    "\n",
    "* Контрольна група має CR% близько 29.25%, тоді як у тестовій групі вона становить близько 28.01%.\n",
    "* P-value для CR% дуже маленьке (0.00018), що вказує на статистичну значущість різниці між групами у конверсії в оплату.\n",
    "* Отже, з погляду конверсії в оплату, можна зробити висновок, що контрольна група показує кращі результати, оскільки має вищу конверсію в оплату.\n",
    "\n",
    "__Середній чек на користувача (ARPPU):__\n",
    "\n",
    "* Середній чек на користувача в контрольній групі становить 294.37, а в тестовій - 324.44.\n",
    "* P-value для ARPPU дорівнює 1.0, що означає, що різниця між групами у середньому чеку на користувача не є статистично значущою.\n",
    "* З цього можна зробити висновок, що зміни в функціоналі не мають впливу на середній чек користувача.\n",
    "\n",
    "Загалом, контрольна група виявилася кращою з точки зору конверсії в оплату, тоді як різниця у середньому чеку на користувача між групами не є статистично значущою."
   ]
  }
 ],
 "metadata": {
  "kernelspec": {
   "display_name": "Python 3 (ipykernel)",
   "language": "python",
   "name": "python3"
  },
  "language_info": {
   "codemirror_mode": {
    "name": "ipython",
    "version": 3
   },
   "file_extension": ".py",
   "mimetype": "text/x-python",
   "name": "python",
   "nbconvert_exporter": "python",
   "pygments_lexer": "ipython3",
   "version": "3.10.9"
  }
 },
 "nbformat": 4,
 "nbformat_minor": 5
}
